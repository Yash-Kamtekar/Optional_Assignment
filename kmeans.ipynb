{
  "nbformat": 4,
  "nbformat_minor": 0,
  "metadata": {
    "colab": {
      "name": "kmeans.ipynb",
      "provenance": [],
      "authorship_tag": "ABX9TyMYFeaJsod7n/goVkQlbMWb",
      "include_colab_link": true
    },
    "kernelspec": {
      "name": "python3",
      "display_name": "Python 3"
    },
    "language_info": {
      "name": "python"
    }
  },
  "cells": [
    {
      "cell_type": "markdown",
      "metadata": {
        "id": "view-in-github",
        "colab_type": "text"
      },
      "source": [
        "<a href=\"https://colab.research.google.com/github/Yash-Kamtekar/Optional_Assignment/blob/main/kmeans.ipynb\" target=\"_parent\"><img src=\"https://colab.research.google.com/assets/colab-badge.svg\" alt=\"Open In Colab\"/></a>"
      ]
    },
    {
      "cell_type": "markdown",
      "source": [
        "importing all necessary libraries."
      ],
      "metadata": {
        "id": "_aNBm5Lmxorz"
      }
    },
    {
      "cell_type": "code",
      "execution_count": 13,
      "metadata": {
        "id": "RYVv3ENrXub6"
      },
      "outputs": [],
      "source": [
        "import numpy as np\n",
        "import pandas as pd\n",
        "from scipy.spatial.distance import cdist \n",
        "from sklearn.datasets import load_wine\n",
        "from sklearn.decomposition import PCA\n",
        "from sklearn.cluster import KMeans\n",
        "import matplotlib.pyplot as plt"
      ]
    },
    {
      "cell_type": "markdown",
      "source": [
        "load the wine dataset from sklearn"
      ],
      "metadata": {
        "id": "-o8tLaqcxuRI"
      }
    },
    {
      "cell_type": "code",
      "source": [
        "wine_data = load_wine()\n",
        "data = pd.DataFrame(data = wine_data.data, columns = wine_data.feature_names)\n",
        "X = data.values\n",
        "y = wine_data.target\n",
        "data.head()"
      ],
      "metadata": {
        "colab": {
          "base_uri": "https://localhost:8080/",
          "height": 206
        },
        "id": "4OZxELMQYR_Q",
        "outputId": "ddd68263-a1be-4f18-fc0d-1e29ea4b187c"
      },
      "execution_count": 14,
      "outputs": [
        {
          "output_type": "execute_result",
          "data": {
            "text/html": [
              "<div>\n",
              "<style scoped>\n",
              "    .dataframe tbody tr th:only-of-type {\n",
              "        vertical-align: middle;\n",
              "    }\n",
              "\n",
              "    .dataframe tbody tr th {\n",
              "        vertical-align: top;\n",
              "    }\n",
              "\n",
              "    .dataframe thead th {\n",
              "        text-align: right;\n",
              "    }\n",
              "</style>\n",
              "<table border=\"1\" class=\"dataframe\">\n",
              "  <thead>\n",
              "    <tr style=\"text-align: right;\">\n",
              "      <th></th>\n",
              "      <th>alcohol</th>\n",
              "      <th>malic_acid</th>\n",
              "      <th>ash</th>\n",
              "      <th>alcalinity_of_ash</th>\n",
              "      <th>magnesium</th>\n",
              "      <th>total_phenols</th>\n",
              "      <th>flavanoids</th>\n",
              "      <th>nonflavanoid_phenols</th>\n",
              "      <th>proanthocyanins</th>\n",
              "      <th>color_intensity</th>\n",
              "      <th>hue</th>\n",
              "      <th>od280/od315_of_diluted_wines</th>\n",
              "      <th>proline</th>\n",
              "    </tr>\n",
              "  </thead>\n",
              "  <tbody>\n",
              "    <tr>\n",
              "      <th>0</th>\n",
              "      <td>14.23</td>\n",
              "      <td>1.71</td>\n",
              "      <td>2.43</td>\n",
              "      <td>15.6</td>\n",
              "      <td>127.0</td>\n",
              "      <td>2.80</td>\n",
              "      <td>3.06</td>\n",
              "      <td>0.28</td>\n",
              "      <td>2.29</td>\n",
              "      <td>5.64</td>\n",
              "      <td>1.04</td>\n",
              "      <td>3.92</td>\n",
              "      <td>1065.0</td>\n",
              "    </tr>\n",
              "    <tr>\n",
              "      <th>1</th>\n",
              "      <td>13.20</td>\n",
              "      <td>1.78</td>\n",
              "      <td>2.14</td>\n",
              "      <td>11.2</td>\n",
              "      <td>100.0</td>\n",
              "      <td>2.65</td>\n",
              "      <td>2.76</td>\n",
              "      <td>0.26</td>\n",
              "      <td>1.28</td>\n",
              "      <td>4.38</td>\n",
              "      <td>1.05</td>\n",
              "      <td>3.40</td>\n",
              "      <td>1050.0</td>\n",
              "    </tr>\n",
              "    <tr>\n",
              "      <th>2</th>\n",
              "      <td>13.16</td>\n",
              "      <td>2.36</td>\n",
              "      <td>2.67</td>\n",
              "      <td>18.6</td>\n",
              "      <td>101.0</td>\n",
              "      <td>2.80</td>\n",
              "      <td>3.24</td>\n",
              "      <td>0.30</td>\n",
              "      <td>2.81</td>\n",
              "      <td>5.68</td>\n",
              "      <td>1.03</td>\n",
              "      <td>3.17</td>\n",
              "      <td>1185.0</td>\n",
              "    </tr>\n",
              "    <tr>\n",
              "      <th>3</th>\n",
              "      <td>14.37</td>\n",
              "      <td>1.95</td>\n",
              "      <td>2.50</td>\n",
              "      <td>16.8</td>\n",
              "      <td>113.0</td>\n",
              "      <td>3.85</td>\n",
              "      <td>3.49</td>\n",
              "      <td>0.24</td>\n",
              "      <td>2.18</td>\n",
              "      <td>7.80</td>\n",
              "      <td>0.86</td>\n",
              "      <td>3.45</td>\n",
              "      <td>1480.0</td>\n",
              "    </tr>\n",
              "    <tr>\n",
              "      <th>4</th>\n",
              "      <td>13.24</td>\n",
              "      <td>2.59</td>\n",
              "      <td>2.87</td>\n",
              "      <td>21.0</td>\n",
              "      <td>118.0</td>\n",
              "      <td>2.80</td>\n",
              "      <td>2.69</td>\n",
              "      <td>0.39</td>\n",
              "      <td>1.82</td>\n",
              "      <td>4.32</td>\n",
              "      <td>1.04</td>\n",
              "      <td>2.93</td>\n",
              "      <td>735.0</td>\n",
              "    </tr>\n",
              "  </tbody>\n",
              "</table>\n",
              "</div>"
            ],
            "text/plain": [
              "   alcohol  malic_acid   ash  ...   hue  od280/od315_of_diluted_wines  proline\n",
              "0    14.23        1.71  2.43  ...  1.04                          3.92   1065.0\n",
              "1    13.20        1.78  2.14  ...  1.05                          3.40   1050.0\n",
              "2    13.16        2.36  2.67  ...  1.03                          3.17   1185.0\n",
              "3    14.37        1.95  2.50  ...  0.86                          3.45   1480.0\n",
              "4    13.24        2.59  2.87  ...  1.04                          2.93    735.0\n",
              "\n",
              "[5 rows x 13 columns]"
            ]
          },
          "metadata": {},
          "execution_count": 14
        }
      ]
    },
    {
      "cell_type": "markdown",
      "source": [
        "Checking the shape of the data frame."
      ],
      "metadata": {
        "id": "EWXrHEQwx1k9"
      }
    },
    {
      "cell_type": "code",
      "source": [
        "X.shape"
      ],
      "metadata": {
        "colab": {
          "base_uri": "https://localhost:8080/"
        },
        "id": "6aruChfpYTqX",
        "outputId": "ee4648e4-caf8-4ad6-9ae8-47456809691a"
      },
      "execution_count": 15,
      "outputs": [
        {
          "output_type": "execute_result",
          "data": {
            "text/plain": [
              "(178, 13)"
            ]
          },
          "metadata": {},
          "execution_count": 15
        }
      ]
    },
    {
      "cell_type": "markdown",
      "source": [
        "Data Transforming."
      ],
      "metadata": {
        "id": "vTbtbLt-x6cL"
      }
    },
    {
      "cell_type": "code",
      "source": [
        "from sklearn.preprocessing import normalize\n",
        "\n",
        "data_scaled = normalize(X)\n",
        "data_scaled = pd.DataFrame(data_scaled, columns = data.columns)\n",
        "data_scaled.head()"
      ],
      "metadata": {
        "colab": {
          "base_uri": "https://localhost:8080/",
          "height": 206
        },
        "id": "uzRfHp1CYVH8",
        "outputId": "6cfde4e1-433b-43e2-9c4c-376461b32ee2"
      },
      "execution_count": 16,
      "outputs": [
        {
          "output_type": "execute_result",
          "data": {
            "text/html": [
              "<div>\n",
              "<style scoped>\n",
              "    .dataframe tbody tr th:only-of-type {\n",
              "        vertical-align: middle;\n",
              "    }\n",
              "\n",
              "    .dataframe tbody tr th {\n",
              "        vertical-align: top;\n",
              "    }\n",
              "\n",
              "    .dataframe thead th {\n",
              "        text-align: right;\n",
              "    }\n",
              "</style>\n",
              "<table border=\"1\" class=\"dataframe\">\n",
              "  <thead>\n",
              "    <tr style=\"text-align: right;\">\n",
              "      <th></th>\n",
              "      <th>alcohol</th>\n",
              "      <th>malic_acid</th>\n",
              "      <th>ash</th>\n",
              "      <th>alcalinity_of_ash</th>\n",
              "      <th>magnesium</th>\n",
              "      <th>total_phenols</th>\n",
              "      <th>flavanoids</th>\n",
              "      <th>nonflavanoid_phenols</th>\n",
              "      <th>proanthocyanins</th>\n",
              "      <th>color_intensity</th>\n",
              "      <th>hue</th>\n",
              "      <th>od280/od315_of_diluted_wines</th>\n",
              "      <th>proline</th>\n",
              "    </tr>\n",
              "  </thead>\n",
              "  <tbody>\n",
              "    <tr>\n",
              "      <th>0</th>\n",
              "      <td>0.013264</td>\n",
              "      <td>0.001594</td>\n",
              "      <td>0.002265</td>\n",
              "      <td>0.014542</td>\n",
              "      <td>0.118383</td>\n",
              "      <td>0.002610</td>\n",
              "      <td>0.002852</td>\n",
              "      <td>0.000261</td>\n",
              "      <td>0.002135</td>\n",
              "      <td>0.005257</td>\n",
              "      <td>0.000969</td>\n",
              "      <td>0.003654</td>\n",
              "      <td>0.992738</td>\n",
              "    </tr>\n",
              "    <tr>\n",
              "      <th>1</th>\n",
              "      <td>0.012513</td>\n",
              "      <td>0.001687</td>\n",
              "      <td>0.002029</td>\n",
              "      <td>0.010617</td>\n",
              "      <td>0.094794</td>\n",
              "      <td>0.002512</td>\n",
              "      <td>0.002616</td>\n",
              "      <td>0.000246</td>\n",
              "      <td>0.001213</td>\n",
              "      <td>0.004152</td>\n",
              "      <td>0.000995</td>\n",
              "      <td>0.003223</td>\n",
              "      <td>0.995336</td>\n",
              "    </tr>\n",
              "    <tr>\n",
              "      <th>2</th>\n",
              "      <td>0.011063</td>\n",
              "      <td>0.001984</td>\n",
              "      <td>0.002245</td>\n",
              "      <td>0.015636</td>\n",
              "      <td>0.084906</td>\n",
              "      <td>0.002354</td>\n",
              "      <td>0.002724</td>\n",
              "      <td>0.000252</td>\n",
              "      <td>0.002362</td>\n",
              "      <td>0.004775</td>\n",
              "      <td>0.000866</td>\n",
              "      <td>0.002665</td>\n",
              "      <td>0.996176</td>\n",
              "    </tr>\n",
              "    <tr>\n",
              "      <th>3</th>\n",
              "      <td>0.009680</td>\n",
              "      <td>0.001314</td>\n",
              "      <td>0.001684</td>\n",
              "      <td>0.011317</td>\n",
              "      <td>0.076119</td>\n",
              "      <td>0.002593</td>\n",
              "      <td>0.002351</td>\n",
              "      <td>0.000162</td>\n",
              "      <td>0.001468</td>\n",
              "      <td>0.005254</td>\n",
              "      <td>0.000579</td>\n",
              "      <td>0.002324</td>\n",
              "      <td>0.996961</td>\n",
              "    </tr>\n",
              "    <tr>\n",
              "      <th>4</th>\n",
              "      <td>0.017775</td>\n",
              "      <td>0.003477</td>\n",
              "      <td>0.003853</td>\n",
              "      <td>0.028193</td>\n",
              "      <td>0.158418</td>\n",
              "      <td>0.003759</td>\n",
              "      <td>0.003611</td>\n",
              "      <td>0.000524</td>\n",
              "      <td>0.002443</td>\n",
              "      <td>0.005800</td>\n",
              "      <td>0.001396</td>\n",
              "      <td>0.003934</td>\n",
              "      <td>0.986753</td>\n",
              "    </tr>\n",
              "  </tbody>\n",
              "</table>\n",
              "</div>"
            ],
            "text/plain": [
              "    alcohol  malic_acid  ...  od280/od315_of_diluted_wines   proline\n",
              "0  0.013264    0.001594  ...                      0.003654  0.992738\n",
              "1  0.012513    0.001687  ...                      0.003223  0.995336\n",
              "2  0.011063    0.001984  ...                      0.002665  0.996176\n",
              "3  0.009680    0.001314  ...                      0.002324  0.996961\n",
              "4  0.017775    0.003477  ...                      0.003934  0.986753\n",
              "\n",
              "[5 rows x 13 columns]"
            ]
          },
          "metadata": {},
          "execution_count": 16
        }
      ]
    },
    {
      "cell_type": "markdown",
      "source": [
        "Transform the data."
      ],
      "metadata": {
        "id": "klmOjb8XyAcS"
      }
    },
    {
      "cell_type": "code",
      "source": [
        "pca = PCA(2)\n",
        "\n",
        "X_tranformed = pca.fit_transform(data_scaled)"
      ],
      "metadata": {
        "id": "0CWeRbEDYXMi"
      },
      "execution_count": 17,
      "outputs": []
    },
    {
      "cell_type": "code",
      "source": [
        "def kmeans(x,k, no_of_iterations):\n",
        "    idx = np.random.choice(len(x), k, replace=False)\n",
        "    # Randomly choosing Centroids \n",
        "    centroids = x[idx, :]\n",
        "\n",
        "    # finding the distance between centroids and all the data points\n",
        "    distances = cdist(x, centroids, 'euclidean')\n",
        "\n",
        "    # Centroid with the minimum Distance\n",
        "    points = np.array([np.argmin(i) for i in distances])\n",
        "\n",
        "    # Repeating the above steps for a defined number of iterations\n",
        "    for _ in range(no_of_iterations): \n",
        "        centroids = []\n",
        "        for idx in range(k):\n",
        "            # Updating Centroids by taking mean of Cluster it belongs to\n",
        "            temp_cent = x[points==idx].mean(axis=0) \n",
        "            centroids.append(temp_cent)\n",
        "\n",
        "        # Updated Centroids \n",
        "        centroids = np.vstack(centroids)\n",
        "\n",
        "        distances = cdist(x, centroids ,'euclidean')\n",
        "        points = np.array([np.argmin(i) for i in distances])\n",
        "         \n",
        "    return points"
      ],
      "metadata": {
        "id": "DUBSy2naYg2C"
      },
      "execution_count": 18,
      "outputs": []
    },
    {
      "cell_type": "code",
      "source": [
        "label = kmeans(X_tranformed, 3, 1000)\n",
        "u_labels = np.unique(label)\n",
        "for i in u_labels:\n",
        "    plt.scatter(X_tranformed[label == i , 0] , X_tranformed[label == i , 1] , label = i)\n",
        "plt.legend()\n",
        "plt.show()"
      ],
      "metadata": {
        "colab": {
          "base_uri": "https://localhost:8080/",
          "height": 267
        },
        "id": "cY84GEd9Ynho",
        "outputId": "db977d84-614e-4db0-adaf-523a014abdef"
      },
      "execution_count": 19,
      "outputs": [
        {
          "output_type": "display_data",
          "data": {
            "image/png": "[encoded data removed]",
            "text/plain": [
              "<Figure size 432x288 with 1 Axes>"
            ]
          },
          "metadata": {
            "needs_background": "light"
          }
        }
      ]
    }
  ]
}