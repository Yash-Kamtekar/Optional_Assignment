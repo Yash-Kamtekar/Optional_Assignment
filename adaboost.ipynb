{
  "nbformat": 4,
  "nbformat_minor": 0,
  "metadata": {
    "colab": {
      "name": "adaboost.ipynb",
      "provenance": [],
      "authorship_tag": "ABX9TyMkmRRCrM87CaS7+bM1OTUB",
      "include_colab_link": true
    },
    "kernelspec": {
      "name": "python3",
      "display_name": "Python 3"
    },
    "language_info": {
      "name": "python"
    }
  },
  "cells": [
    {
      "cell_type": "markdown",
      "metadata": {
        "id": "view-in-github",
        "colab_type": "text"
      },
      "source": [
        "<a href=\"https://colab.research.google.com/github/Yash-Kamtekar/Optional_Assignment/blob/main/adaboost.ipynb\" target=\"_parent\"><img src=\"https://colab.research.google.com/assets/colab-badge.svg\" alt=\"Open In Colab\"/></a>"
      ]
    },
    {
      "cell_type": "markdown",
      "source": [
        "Importing all libraries."
      ],
      "metadata": {
        "id": "DRsyN1stf4kk"
      }
    },
    {
      "cell_type": "code",
      "execution_count": null,
      "metadata": {
        "id": "r0uVanpufx_t"
      },
      "outputs": [],
      "source": [
        "from sklearn.datasets import make_classification\n",
        "from sklearn.metrics import accuracy_score\n",
        "from sklearn.model_selection import train_test_split\n",
        "import numpy as np\n",
        "import pandas as pd\n",
        "import matplotlib.pyplot as plt\n",
        "from sklearn.base import clone\n",
        "from sklearn.base import BaseEstimator\n",
        "from sklearn.metrics import accuracy_score\n",
        "from sklearn.datasets import load_breast_cancer\n",
        "from sklearn.decomposition import PCA"
      ]
    },
    {
      "cell_type": "code",
      "source": [
        "def accuracy(y_true, y_pred):\n",
        "    accuracy = np.sum(y_true == y_pred) / len(y_true)\n",
        "    return accuracy"
      ],
      "metadata": {
        "id": "ydTqTs9QgHbH"
      },
      "execution_count": null,
      "outputs": []
    },
    {
      "cell_type": "code",
      "source": [
        "from sklearn.base import BaseEstimator\n",
        "\n",
        "\n",
        "class Logistic_Regression(BaseEstimator):\n",
        "    \n",
        "    def __init__(self, learning_rate=0.01, epochs=1000):\n",
        "        self.learning_rate = learning_rate\n",
        "        self.epochs = epochs\n",
        "        self.weights = None\n",
        "        self.bias = None\n",
        "        self.cost_per_iteration = []\n",
        "        \n",
        "    \n",
        "    def _sigmoid(self, x):\n",
        "        EPS = 1e-7\n",
        "        return 1 / (1 + np.exp(-x + EPS))\n",
        "    \n",
        "    \n",
        "    def fit(self, X, y):\n",
        "        m, n = X.shape\n",
        "        self.weights = np.zeros(n)\n",
        "        self.bias = 0\n",
        "        \n",
        "        # gradient descent\n",
        "\n",
        "        for _ in range(self.epochs):\n",
        "            # forward propagation\n",
        "            Z = np.dot(X, self.weights) + self.bias\n",
        "            A = self._sigmoid(Z)\n",
        "            \n",
        "            # backward propagation\n",
        "            dw = (1 / m) * np.dot(X.T, A - y)\n",
        "            db = (1 / m) * np.sum(A - y)\n",
        "            \n",
        "            self.weights -= self.learning_rate * dw\n",
        "            self.bias -= self.learning_rate * db\n",
        "            \n",
        "    def predict(self, X):\n",
        "        Z = np.dot(X, self.weights) + self.bias\n",
        "        A = self._sigmoid(Z)\n",
        "    \n",
        "        if not isinstance(A, float):\n",
        "            y_predicted_cls = [1 if i >= 0.5 else 0 for i in A]\n",
        "        else:\n",
        "            y_predicted_cls = 1 if A >= 0.5 else 0\n",
        "        return y_predicted_cls\n",
        "    \n",
        "    \n",
        "    def __str__(self):\n",
        "        return f\"Logistic_Regression(learning_rate={self.learning_rate}, epochs={self.epochs})\""
      ],
      "metadata": {
        "id": "Ryr4fmYagM2b"
      },
      "execution_count": null,
      "outputs": []
    },
    {
      "cell_type": "code",
      "source": [
        "class AdaBoost(object):\n",
        "    \n",
        "    def __init__(self, base_estimator, n_estimators, learning_rate):\n",
        "        self.base_estimator = base_estimator\n",
        "        self.n_estimators = n_estimators\n",
        "        self.learning_rate = learning_rate\n",
        "        self.predictor_weightages = []\n",
        "        \n",
        "        \n",
        "    def fit(self, X, y):\n",
        "        n_samples, n_features = X.shape\n",
        "        \n",
        "        for i in range(self.n_estimators):\n",
        "\n",
        "            # initially all instances have the same weight\n",
        "            instance_weights = self._initial_instance_weights(n_samples)\n",
        "            \n",
        "            # Use predictor to make classification error\n",
        "            clone_clf = clone(self.base_estimator)\n",
        "            clone_clf.fit(X, y)\n",
        "            predicted = clone_clf.predict(X)\n",
        "            \n",
        "            # getting misclassified instances\n",
        "            mis_classified_instances, acc = self._getAccuracy(y, predicted)\n",
        "            \n",
        "            # total error made by the predictor\n",
        "            total_err = self._total_error(mis_classified_instances, instance_weights)\n",
        "            \n",
        "            # weightage of predictor based on its error\n",
        "            predictor_weightage = self._get_predictor_weightage(total_err)\n",
        "            self.predictor_weightages.append((i, clone_clf, predictor_weightage))\n",
        "            \n",
        "            # updating instance weights\n",
        "            instance_weights = self._update_instance_weights(mis_classified_instances, \n",
        "                                                             instance_weights, predictor_weightage)\n",
        "\n",
        "            \n",
        "            # sampling data with replacement focusing on instances that were misclassified\n",
        "            X, y = self._new_sample_set(X, y, instance_weights)\n",
        "\n",
        "    \n",
        "\n",
        "    def _initial_instance_weights(self, shape):\n",
        "        instance_weights = np.full(shape=shape, fill_value=1/shape)\n",
        "        return instance_weights\n",
        "    \n",
        "    \n",
        "    def _getAccuracy(self, true, predicted):\n",
        "        assert len(true) == len(predicted)\n",
        "        error_instance = np.equal(true, predicted).astype(int)\n",
        "        miss_classified = []\n",
        "\n",
        "        for i, j in enumerate(error_instance):\n",
        "            if j == 0:\n",
        "                miss_classified.append(i)\n",
        "                \n",
        "        accuracy = np.sum(true == predicted)\n",
        "        return miss_classified, (accuracy/len(true)) * 100.0\n",
        "    \n",
        "    \n",
        "    def _total_error(self, mis_classified, instance_weights):\n",
        "        error = 0\n",
        "        for i in mis_classified:\n",
        "            error += instance_weights[i]\n",
        "\n",
        "        return error\n",
        "    \n",
        "    def _get_predictor_weightage(self, error):\n",
        "        EPS = 1e-5\n",
        "        weightage = 0.5 * np.log((1.0 - error + EPS) / (error + EPS))\n",
        "        return weightage\n",
        "\n",
        "    \n",
        "    def _update_instance_weights(self, mis_classified_instances, instance_weights, predictor_weightage):\n",
        "        weights = instance_weights[:]\n",
        "        EPS = 1e-10\n",
        "        for idx in range(len(instance_weights)):\n",
        "            if idx in mis_classified_instances:\n",
        "                weights[idx] = weights[idx] * np.exp(predictor_weightage + EPS)\n",
        "            else:\n",
        "                weights[idx] = weights[idx] * np.exp(-predictor_weightage + EPS)\n",
        "\n",
        "\n",
        "        # Normalizing weights\n",
        "        summed_weights = np.sum(weights)\n",
        "        weights /= summed_weights\n",
        "        return np.array(weights)\n",
        "    \n",
        "    def _new_sample_set(self, X, y, instance_weights):\n",
        "        intervals = []\n",
        "        intervals.append(instance_weights[0])\n",
        "\n",
        "        for i, j in enumerate(instance_weights[1:], 1):\n",
        "            intervals.append(j + intervals[i-1])\n",
        "\n",
        "        idxs = []\n",
        "\n",
        "        for i in range(X.shape[0]):\n",
        "            samp = np.random.sample()\n",
        "            try:\n",
        "                idx = np.searchsorted(intervals, samp, side='right')\n",
        "                _ = X[idx] # check if exists\n",
        "            except:\n",
        "                idx = idx - 1\n",
        "\n",
        "            finally:\n",
        "                idxs.append(idx)\n",
        "\n",
        "        X = X[idxs]\n",
        "        y = y[idxs]\n",
        "        return X, y\n",
        "    \n",
        "    def predict(self, X):\n",
        "        clf_predictions = np.array([clf.predict(X) for idx, clf, weightage in self.predictor_weightages])\n",
        "        predictions = []\n",
        "        \n",
        "        for sample_predictions in clf_predictions.T:\n",
        "            class_0 = 0\n",
        "            class_1 = 0\n",
        "            \n",
        "            for predictor, predictor_op in enumerate(sample_predictions):\n",
        "                if predictor_op == 0:\n",
        "                    class_0 += self.predictor_weightages[predictor][2]\n",
        "                else:\n",
        "                    class_1 += self.predictor_weightages[predictor][2]\n",
        "            \n",
        "            if class_0 > class_1:\n",
        "                predictions.append(0)\n",
        "            else:\n",
        "                predictions.append(1)\n",
        "        \n",
        "        return np.array(predictions)"
      ],
      "metadata": {
        "id": "Waoo0ysSgSqc"
      },
      "execution_count": null,
      "outputs": []
    },
    {
      "cell_type": "code",
      "source": [
        "from google.colab import drive\n",
        "\n",
        "drive.mount(\"/content/drive\")"
      ],
      "metadata": {
        "colab": {
          "base_uri": "https://localhost:8080/"
        },
        "id": "4NzlZmNqges4",
        "outputId": "ebb83564-2e25-43ed-b7df-2d6e070c6d6b"
      },
      "execution_count": null,
      "outputs": [
        {
          "output_type": "stream",
          "name": "stdout",
          "text": [
            "Drive already mounted at /content/drive; to attempt to forcibly remount, call drive.mount(\"/content/drive\", force_remount=True).\n"
          ]
        }
      ]
    },
    {
      "cell_type": "code",
      "source": [
        "diabetes_data = pd.read_csv('/content/drive/MyDrive/255/Optional_Assignment_1/diabetes_data.csv')\n",
        "diabetes_data.head()"
      ],
      "metadata": {
        "colab": {
          "base_uri": "https://localhost:8080/",
          "height": 206
        },
        "id": "_WguRPHjgZ4e",
        "outputId": "874fe012-5573-4111-dec5-8ae1144c01fa"
      },
      "execution_count": null,
      "outputs": [
        {
          "output_type": "execute_result",
          "data": {
            "text/html": [
              "<div>\n",
              "<style scoped>\n",
              "    .dataframe tbody tr th:only-of-type {\n",
              "        vertical-align: middle;\n",
              "    }\n",
              "\n",
              "    .dataframe tbody tr th {\n",
              "        vertical-align: top;\n",
              "    }\n",
              "\n",
              "    .dataframe thead th {\n",
              "        text-align: right;\n",
              "    }\n",
              "</style>\n",
              "<table border=\"1\" class=\"dataframe\">\n",
              "  <thead>\n",
              "    <tr style=\"text-align: right;\">\n",
              "      <th></th>\n",
              "      <th>Pregnancies</th>\n",
              "      <th>Glucose</th>\n",
              "      <th>BloodPressure</th>\n",
              "      <th>SkinThickness</th>\n",
              "      <th>Insulin</th>\n",
              "      <th>BMI</th>\n",
              "      <th>DiabetesPedigreeFunction</th>\n",
              "      <th>Age</th>\n",
              "      <th>Outcome</th>\n",
              "    </tr>\n",
              "  </thead>\n",
              "  <tbody>\n",
              "    <tr>\n",
              "      <th>0</th>\n",
              "      <td>6</td>\n",
              "      <td>148</td>\n",
              "      <td>72</td>\n",
              "      <td>35</td>\n",
              "      <td>0</td>\n",
              "      <td>33.6</td>\n",
              "      <td>0.627</td>\n",
              "      <td>50</td>\n",
              "      <td>1</td>\n",
              "    </tr>\n",
              "    <tr>\n",
              "      <th>1</th>\n",
              "      <td>1</td>\n",
              "      <td>85</td>\n",
              "      <td>66</td>\n",
              "      <td>29</td>\n",
              "      <td>0</td>\n",
              "      <td>26.6</td>\n",
              "      <td>0.351</td>\n",
              "      <td>31</td>\n",
              "      <td>0</td>\n",
              "    </tr>\n",
              "    <tr>\n",
              "      <th>2</th>\n",
              "      <td>8</td>\n",
              "      <td>183</td>\n",
              "      <td>64</td>\n",
              "      <td>0</td>\n",
              "      <td>0</td>\n",
              "      <td>23.3</td>\n",
              "      <td>0.672</td>\n",
              "      <td>32</td>\n",
              "      <td>1</td>\n",
              "    </tr>\n",
              "    <tr>\n",
              "      <th>3</th>\n",
              "      <td>1</td>\n",
              "      <td>89</td>\n",
              "      <td>66</td>\n",
              "      <td>23</td>\n",
              "      <td>94</td>\n",
              "      <td>28.1</td>\n",
              "      <td>0.167</td>\n",
              "      <td>21</td>\n",
              "      <td>0</td>\n",
              "    </tr>\n",
              "    <tr>\n",
              "      <th>4</th>\n",
              "      <td>0</td>\n",
              "      <td>137</td>\n",
              "      <td>40</td>\n",
              "      <td>35</td>\n",
              "      <td>168</td>\n",
              "      <td>43.1</td>\n",
              "      <td>2.288</td>\n",
              "      <td>33</td>\n",
              "      <td>1</td>\n",
              "    </tr>\n",
              "  </tbody>\n",
              "</table>\n",
              "</div>"
            ],
            "text/plain": [
              "   Pregnancies  Glucose  BloodPressure  ...  DiabetesPedigreeFunction  Age  Outcome\n",
              "0            6      148             72  ...                     0.627   50        1\n",
              "1            1       85             66  ...                     0.351   31        0\n",
              "2            8      183             64  ...                     0.672   32        1\n",
              "3            1       89             66  ...                     0.167   21        0\n",
              "4            0      137             40  ...                     2.288   33        1\n",
              "\n",
              "[5 rows x 9 columns]"
            ]
          },
          "metadata": {},
          "execution_count": 19
        }
      ]
    },
    {
      "cell_type": "code",
      "source": [
        "X = diabetes_data[diabetes_data.columns[:-1]].values\n",
        "y = diabetes_data[diabetes_data.columns[-1]].values\n",
        "\n",
        "\n",
        "X_train, X_test, y_train, y_test = train_test_split(X, y, test_size=0.2, stratify=y, random_state=42)"
      ],
      "metadata": {
        "id": "1Q3irosPgaOf"
      },
      "execution_count": null,
      "outputs": []
    },
    {
      "cell_type": "code",
      "source": [
        "ada_clf = AdaBoost(base_estimator=Logistic_Regression(learning_rate=0.001, epochs=500),\n",
        "                  n_estimators=10, learning_rate=0.5)"
      ],
      "metadata": {
        "id": "lL8rKqg5gzDA"
      },
      "execution_count": null,
      "outputs": []
    },
    {
      "cell_type": "code",
      "source": [
        "ada_clf.fit(X_train, y_train)\n",
        "y_pred = ada_clf.predict(X_train)\n",
        "print(f\"Training Accuracy: {round(accuracy(y_train, y_pred), 2)}\")\n",
        "\n",
        "y_pred = ada_clf.predict(X_test)\n",
        "print(f\"Validation Accuracy: {round(accuracy(y_test, y_pred), 2)}\")"
      ],
      "metadata": {
        "colab": {
          "base_uri": "https://localhost:8080/"
        },
        "id": "YIWMjsokhV_D",
        "outputId": "7b1c4276-a114-4655-a6fe-7d054a24a448"
      },
      "execution_count": null,
      "outputs": [
        {
          "output_type": "stream",
          "name": "stdout",
          "text": [
            "Training Accuracy: 0.67\n",
            "Validation Accuracy: 0.64\n"
          ]
        }
      ]
    },
    {
      "cell_type": "code",
      "source": [
        "from sklearn.metrics import precision_score, recall_score, f1_score"
      ],
      "metadata": {
        "id": "oNn0RLNUiUuw"
      },
      "execution_count": null,
      "outputs": []
    },
    {
      "cell_type": "code",
      "source": [
        "print(f\"Model Precision: {precision_score(y_test, y_pred)}\")\n",
        "print(f\"Model Recall: {recall_score(y_test, y_pred)}\")\n",
        "print(f\"Model F1-score: {f1_score(y_test, y_pred)}\")"
      ],
      "metadata": {
        "colab": {
          "base_uri": "https://localhost:8080/"
        },
        "id": "4WH6jePwiWoW",
        "outputId": "c6c25c5f-8092-4f11-f88d-d485109a9f56"
      },
      "execution_count": null,
      "outputs": [
        {
          "output_type": "stream",
          "name": "stdout",
          "text": [
            "Model Precision: 0.42857142857142855\n",
            "Model Recall: 0.1111111111111111\n",
            "Model F1-score: 0.17647058823529413\n"
          ]
        }
      ]
    },
    {
      "cell_type": "code",
      "source": [
        "# roc curve \n",
        "from sklearn.metrics import roc_curve\n",
        "\n",
        "fpr, tpr, thresholdsh = roc_curve(y_test, y_pred)"
      ],
      "metadata": {
        "id": "vyLk2BTGiW_G"
      },
      "execution_count": null,
      "outputs": []
    },
    {
      "cell_type": "code",
      "source": [
        "def plot_roc_curve(fpr, tpr, label=None):\n",
        "    plt.plot(fpr, tpr, linewidth=2, label=label)\n",
        "    plt.plot([0, 1], [0, 1], 'k--')\n",
        "    plt.axis([0, 1, 0, 1])\n",
        "    plt.xlabel('False Positive Rate (Fall-Out)', fontsize=16)\n",
        "    plt.ylabel('True Positive Rate (Recall)', fontsize=16)\n",
        "    plt.grid(True)\n",
        "\n",
        "plt.figure(figsize=(8, 6))\n",
        "plot_roc_curve(fpr, tpr)"
      ],
      "metadata": {
        "colab": {
          "base_uri": "https://localhost:8080/",
          "height": 397
        },
        "id": "Q5Os9ag7iY9n",
        "outputId": "cab4b25e-bfe7-4610-fa34-9cccf57edd04"
      },
      "execution_count": null,
      "outputs": [
        {
          "output_type": "display_data",
          "data": {
            "image/png": "[encoded data removed]",
            "text/plain": [
              "<Figure size 576x432 with 1 Axes>"
            ]
          },
          "metadata": {
            "needs_background": "light"
          }
        }
      ]
    },
    {
      "cell_type": "code",
      "source": [
        "from sklearn.metrics import roc_auc_score\n",
        "\n",
        "roc_auc_score(y_test, y_pred)"
      ],
      "metadata": {
        "colab": {
          "base_uri": "https://localhost:8080/"
        },
        "id": "gTuHOYxliaqF",
        "outputId": "3455067e-8905-4744-81b0-6adae646aea8"
      },
      "execution_count": null,
      "outputs": [
        {
          "output_type": "execute_result",
          "data": {
            "text/plain": [
              "0.5155555555555557"
            ]
          },
          "metadata": {},
          "execution_count": 27
        }
      ]
    }
  ]
}